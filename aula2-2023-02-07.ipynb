{
  "nbformat": 4,
  "nbformat_minor": 0,
  "metadata": {
    "colab": {
      "provenance": [],
      "authorship_tag": "ABX9TyMlnwbdtfJE6KvFTqpn7Ooj",
      "include_colab_link": true
    },
    "kernelspec": {
      "name": "python3",
      "display_name": "Python 3"
    },
    "language_info": {
      "name": "python"
    }
  },
  "cells": [
    {
      "cell_type": "markdown",
      "metadata": {
        "id": "view-in-github",
        "colab_type": "text"
      },
      "source": [
        "<a href=\"https://colab.research.google.com/github/ViniiCh4g4s/AnimaCursoExtensaoPython2023-1/blob/main/aula2-2023-02-07.ipynb\" target=\"_parent\"><img src=\"https://colab.research.google.com/assets/colab-badge.svg\" alt=\"Open In Colab\"/></a>"
      ]
    },
    {
      "cell_type": "code",
      "execution_count": 1,
      "metadata": {
        "id": "yecvFcUw-XW-"
      },
      "outputs": [],
      "source": [
        "# Primeiro exemplo de manipulação de dados usando Python Pandas\n",
        "# Autor: Vinicius Chagas\n",
        "# Data: 6/7 de fevereiro de 2023\n",
        "\n",
        "# -------------------------------------------------------------------\n",
        "\n",
        "# importando biblioteca pandas no Python\n",
        "import pandas as pd\n",
        "\n",
        "combustiveis_df = pd.read_excel(\"ca-2021-02.xlsx\")"
      ]
    },
    {
      "cell_type": "code",
      "source": [
        "# Usa o print para ver o dataframe!\n",
        "print(combustiveis_df.head(2))"
      ],
      "metadata": {
        "colab": {
          "base_uri": "https://localhost:8080/"
        },
        "id": "qfUtnhuIBh5G",
        "outputId": "24f5cbe0-1cb6-492a-b447-8246f7867add"
      },
      "execution_count": 7,
      "outputs": [
        {
          "output_type": "stream",
          "name": "stdout",
          "text": [
            "  Regiao - Sigla Estado - Sigla  Municipio               Revenda  \\\n",
            "0             NE             AL  ARAPIRACA  POSTO ARAPIRACA LTDA   \n",
            "1             NE             AL  ARAPIRACA  POSTO ARAPIRACA LTDA   \n",
            "\n",
            "       CNPJ da Revenda     Nome da Rua Numero Rua Complemento       Bairro  \\\n",
            "0   12.451.076/0004-65  RODOVIA AL 220        105       KM 68  CANAFISTULA   \n",
            "1   12.451.076/0004-65  RODOVIA AL 220        105       KM 68  CANAFISTULA   \n",
            "\n",
            "         Cep   Produto Data da Coleta  Valor de Venda  Valor de Compra  \\\n",
            "0  57302-605  GASOLINA     2021-11-01           6.799              NaN   \n",
            "1  57302-605    ETANOL     2021-11-01           5.299              NaN   \n",
            "\n",
            "  Unidade de Medida       Bandeira  \n",
            "0        R$ / litro  VIBRA ENERGIA  \n",
            "1        R$ / litro  VIBRA ENERGIA  \n"
          ]
        }
      ]
    },
    {
      "cell_type": "code",
      "source": [
        "display(combustiveis_df.head(2))"
      ],
      "metadata": {
        "colab": {
          "base_uri": "https://localhost:8080/",
          "height": 277
        },
        "id": "NgNRhTNzCNn0",
        "outputId": "38036340-6fce-4c63-f29e-28a92b181b7b"
      },
      "execution_count": 8,
      "outputs": [
        {
          "output_type": "display_data",
          "data": {
            "text/plain": [
              "  Regiao - Sigla Estado - Sigla  Municipio               Revenda  \\\n",
              "0             NE             AL  ARAPIRACA  POSTO ARAPIRACA LTDA   \n",
              "1             NE             AL  ARAPIRACA  POSTO ARAPIRACA LTDA   \n",
              "\n",
              "       CNPJ da Revenda     Nome da Rua Numero Rua Complemento       Bairro  \\\n",
              "0   12.451.076/0004-65  RODOVIA AL 220        105       KM 68  CANAFISTULA   \n",
              "1   12.451.076/0004-65  RODOVIA AL 220        105       KM 68  CANAFISTULA   \n",
              "\n",
              "         Cep   Produto Data da Coleta  Valor de Venda  Valor de Compra  \\\n",
              "0  57302-605  GASOLINA     2021-11-01           6.799              NaN   \n",
              "1  57302-605    ETANOL     2021-11-01           5.299              NaN   \n",
              "\n",
              "  Unidade de Medida       Bandeira  \n",
              "0        R$ / litro  VIBRA ENERGIA  \n",
              "1        R$ / litro  VIBRA ENERGIA  "
            ],
            "text/html": [
              "\n",
              "  <div id=\"df-d84a4754-ef63-4879-94bf-1fc57e74ad08\">\n",
              "    <div class=\"colab-df-container\">\n",
              "      <div>\n",
              "<style scoped>\n",
              "    .dataframe tbody tr th:only-of-type {\n",
              "        vertical-align: middle;\n",
              "    }\n",
              "\n",
              "    .dataframe tbody tr th {\n",
              "        vertical-align: top;\n",
              "    }\n",
              "\n",
              "    .dataframe thead th {\n",
              "        text-align: right;\n",
              "    }\n",
              "</style>\n",
              "<table border=\"1\" class=\"dataframe\">\n",
              "  <thead>\n",
              "    <tr style=\"text-align: right;\">\n",
              "      <th></th>\n",
              "      <th>Regiao - Sigla</th>\n",
              "      <th>Estado - Sigla</th>\n",
              "      <th>Municipio</th>\n",
              "      <th>Revenda</th>\n",
              "      <th>CNPJ da Revenda</th>\n",
              "      <th>Nome da Rua</th>\n",
              "      <th>Numero Rua</th>\n",
              "      <th>Complemento</th>\n",
              "      <th>Bairro</th>\n",
              "      <th>Cep</th>\n",
              "      <th>Produto</th>\n",
              "      <th>Data da Coleta</th>\n",
              "      <th>Valor de Venda</th>\n",
              "      <th>Valor de Compra</th>\n",
              "      <th>Unidade de Medida</th>\n",
              "      <th>Bandeira</th>\n",
              "    </tr>\n",
              "  </thead>\n",
              "  <tbody>\n",
              "    <tr>\n",
              "      <th>0</th>\n",
              "      <td>NE</td>\n",
              "      <td>AL</td>\n",
              "      <td>ARAPIRACA</td>\n",
              "      <td>POSTO ARAPIRACA LTDA</td>\n",
              "      <td>12.451.076/0004-65</td>\n",
              "      <td>RODOVIA AL 220</td>\n",
              "      <td>105</td>\n",
              "      <td>KM 68</td>\n",
              "      <td>CANAFISTULA</td>\n",
              "      <td>57302-605</td>\n",
              "      <td>GASOLINA</td>\n",
              "      <td>2021-11-01</td>\n",
              "      <td>6.799</td>\n",
              "      <td>NaN</td>\n",
              "      <td>R$ / litro</td>\n",
              "      <td>VIBRA ENERGIA</td>\n",
              "    </tr>\n",
              "    <tr>\n",
              "      <th>1</th>\n",
              "      <td>NE</td>\n",
              "      <td>AL</td>\n",
              "      <td>ARAPIRACA</td>\n",
              "      <td>POSTO ARAPIRACA LTDA</td>\n",
              "      <td>12.451.076/0004-65</td>\n",
              "      <td>RODOVIA AL 220</td>\n",
              "      <td>105</td>\n",
              "      <td>KM 68</td>\n",
              "      <td>CANAFISTULA</td>\n",
              "      <td>57302-605</td>\n",
              "      <td>ETANOL</td>\n",
              "      <td>2021-11-01</td>\n",
              "      <td>5.299</td>\n",
              "      <td>NaN</td>\n",
              "      <td>R$ / litro</td>\n",
              "      <td>VIBRA ENERGIA</td>\n",
              "    </tr>\n",
              "  </tbody>\n",
              "</table>\n",
              "</div>\n",
              "      <button class=\"colab-df-convert\" onclick=\"convertToInteractive('df-d84a4754-ef63-4879-94bf-1fc57e74ad08')\"\n",
              "              title=\"Convert this dataframe to an interactive table.\"\n",
              "              style=\"display:none;\">\n",
              "        \n",
              "  <svg xmlns=\"http://www.w3.org/2000/svg\" height=\"24px\"viewBox=\"0 0 24 24\"\n",
              "       width=\"24px\">\n",
              "    <path d=\"M0 0h24v24H0V0z\" fill=\"none\"/>\n",
              "    <path d=\"M18.56 5.44l.94 2.06.94-2.06 2.06-.94-2.06-.94-.94-2.06-.94 2.06-2.06.94zm-11 1L8.5 8.5l.94-2.06 2.06-.94-2.06-.94L8.5 2.5l-.94 2.06-2.06.94zm10 10l.94 2.06.94-2.06 2.06-.94-2.06-.94-.94-2.06-.94 2.06-2.06.94z\"/><path d=\"M17.41 7.96l-1.37-1.37c-.4-.4-.92-.59-1.43-.59-.52 0-1.04.2-1.43.59L10.3 9.45l-7.72 7.72c-.78.78-.78 2.05 0 2.83L4 21.41c.39.39.9.59 1.41.59.51 0 1.02-.2 1.41-.59l7.78-7.78 2.81-2.81c.8-.78.8-2.07 0-2.86zM5.41 20L4 18.59l7.72-7.72 1.47 1.35L5.41 20z\"/>\n",
              "  </svg>\n",
              "      </button>\n",
              "      \n",
              "  <style>\n",
              "    .colab-df-container {\n",
              "      display:flex;\n",
              "      flex-wrap:wrap;\n",
              "      gap: 12px;\n",
              "    }\n",
              "\n",
              "    .colab-df-convert {\n",
              "      background-color: #E8F0FE;\n",
              "      border: none;\n",
              "      border-radius: 50%;\n",
              "      cursor: pointer;\n",
              "      display: none;\n",
              "      fill: #1967D2;\n",
              "      height: 32px;\n",
              "      padding: 0 0 0 0;\n",
              "      width: 32px;\n",
              "    }\n",
              "\n",
              "    .colab-df-convert:hover {\n",
              "      background-color: #E2EBFA;\n",
              "      box-shadow: 0px 1px 2px rgba(60, 64, 67, 0.3), 0px 1px 3px 1px rgba(60, 64, 67, 0.15);\n",
              "      fill: #174EA6;\n",
              "    }\n",
              "\n",
              "    [theme=dark] .colab-df-convert {\n",
              "      background-color: #3B4455;\n",
              "      fill: #D2E3FC;\n",
              "    }\n",
              "\n",
              "    [theme=dark] .colab-df-convert:hover {\n",
              "      background-color: #434B5C;\n",
              "      box-shadow: 0px 1px 3px 1px rgba(0, 0, 0, 0.15);\n",
              "      filter: drop-shadow(0px 1px 2px rgba(0, 0, 0, 0.3));\n",
              "      fill: #FFFFFF;\n",
              "    }\n",
              "  </style>\n",
              "\n",
              "      <script>\n",
              "        const buttonEl =\n",
              "          document.querySelector('#df-d84a4754-ef63-4879-94bf-1fc57e74ad08 button.colab-df-convert');\n",
              "        buttonEl.style.display =\n",
              "          google.colab.kernel.accessAllowed ? 'block' : 'none';\n",
              "\n",
              "        async function convertToInteractive(key) {\n",
              "          const element = document.querySelector('#df-d84a4754-ef63-4879-94bf-1fc57e74ad08');\n",
              "          const dataTable =\n",
              "            await google.colab.kernel.invokeFunction('convertToInteractive',\n",
              "                                                     [key], {});\n",
              "          if (!dataTable) return;\n",
              "\n",
              "          const docLinkHtml = 'Like what you see? Visit the ' +\n",
              "            '<a target=\"_blank\" href=https://colab.research.google.com/notebooks/data_table.ipynb>data table notebook</a>'\n",
              "            + ' to learn more about interactive tables.';\n",
              "          element.innerHTML = '';\n",
              "          dataTable['output_type'] = 'display_data';\n",
              "          await google.colab.output.renderOutput(dataTable, element);\n",
              "          const docLink = document.createElement('div');\n",
              "          docLink.innerHTML = docLinkHtml;\n",
              "          element.appendChild(docLink);\n",
              "        }\n",
              "      </script>\n",
              "    </div>\n",
              "  </div>\n",
              "  "
            ]
          },
          "metadata": {}
        }
      ]
    },
    {
      "cell_type": "code",
      "source": [
        "# Comandos dataframe.shape e dataframe.describe()\n",
        "print(combustiveis_df.shape)\n",
        "# Mostra o número de linhas e colunas (linhas, colunas)\n",
        "\n",
        "# Mostra só linhas\n",
        "print(combustiveis_df.shape[0])"
      ],
      "metadata": {
        "colab": {
          "base_uri": "https://localhost:8080/"
        },
        "id": "QGTio0VHH-wJ",
        "outputId": "95df65e8-63c9-4fa0-d27d-b4fd41c05f6b"
      },
      "execution_count": 13,
      "outputs": [
        {
          "output_type": "stream",
          "name": "stdout",
          "text": [
            "(168409, 16)\n",
            "168409\n"
          ]
        }
      ]
    },
    {
      "cell_type": "code",
      "source": [
        "# Quais são as colunas e que tipo de dados cada um tem\n",
        "print(combustiveis_df.info())"
      ],
      "metadata": {
        "colab": {
          "base_uri": "https://localhost:8080/"
        },
        "id": "D1q1KZD_KlhQ",
        "outputId": "28a38f4e-d788-4f50-a21c-0d4be8c7f454"
      },
      "execution_count": 14,
      "outputs": [
        {
          "output_type": "stream",
          "name": "stdout",
          "text": [
            "<class 'pandas.core.frame.DataFrame'>\n",
            "RangeIndex: 168409 entries, 0 to 168408\n",
            "Data columns (total 16 columns):\n",
            " #   Column             Non-Null Count   Dtype         \n",
            "---  ------             --------------   -----         \n",
            " 0   Regiao - Sigla     168409 non-null  object        \n",
            " 1   Estado - Sigla     168409 non-null  object        \n",
            " 2   Municipio          168409 non-null  object        \n",
            " 3   Revenda            168409 non-null  object        \n",
            " 4   CNPJ da Revenda    168409 non-null  object        \n",
            " 5   Nome da Rua        168409 non-null  object        \n",
            " 6   Numero Rua         168353 non-null  object        \n",
            " 7   Complemento        35057 non-null   object        \n",
            " 8   Bairro             168043 non-null  object        \n",
            " 9   Cep                168409 non-null  object        \n",
            " 10  Produto            168409 non-null  object        \n",
            " 11  Data da Coleta     168409 non-null  datetime64[ns]\n",
            " 12  Valor de Venda     168409 non-null  float64       \n",
            " 13  Valor de Compra    0 non-null       float64       \n",
            " 14  Unidade de Medida  168409 non-null  object        \n",
            " 15  Bandeira           168409 non-null  object        \n",
            "dtypes: datetime64[ns](1), float64(2), object(13)\n",
            "memory usage: 20.6+ MB\n",
            "None\n"
          ]
        }
      ]
    },
    {
      "cell_type": "code",
      "source": [
        "# Mostra as estastísticas mais básicas que precisamos\n",
        "print(combustiveis_df.describe())"
      ],
      "metadata": {
        "colab": {
          "base_uri": "https://localhost:8080/"
        },
        "id": "SHjrkBrHTmSI",
        "outputId": "5fa35c13-a996-4c45-d6a6-81939beb850e"
      },
      "execution_count": 15,
      "outputs": [
        {
          "output_type": "stream",
          "name": "stdout",
          "text": [
            "       Valor de Venda  Valor de Compra\n",
            "count   168409.000000              0.0\n",
            "mean         6.005184              NaN\n",
            "std          0.794541              NaN\n",
            "min          2.849000              NaN\n",
            "25%          5.339000              NaN\n",
            "50%          5.859000              NaN\n",
            "75%          6.699000              NaN\n",
            "max          8.990000              NaN\n"
          ]
        }
      ]
    },
    {
      "cell_type": "code",
      "source": [
        "# Filtrar apenas por uma coluna\n",
        "print(combustiveis_df['Revenda'].tail(10))"
      ],
      "metadata": {
        "colab": {
          "base_uri": "https://localhost:8080/"
        },
        "id": "v4caGt_bYsEo",
        "outputId": "2454a3f4-8909-47db-f1b3-b92dc36f91d8"
      },
      "execution_count": 18,
      "outputs": [
        {
          "output_type": "stream",
          "name": "stdout",
          "text": [
            "168399    VICMAR COMERCIO DE COMBUSTIVEIS E LUBRIFICANTE...\n",
            "168400    VICMAR COMERCIO DE COMBUSTIVEIS E LUBRIFICANTE...\n",
            "168401    VICMAR COMERCIO DE COMBUSTIVEIS E LUBRIFICANTE...\n",
            "168402           COMERCIAL DE COMBUSTIVEL CACHOEIRINHA LTDA\n",
            "168403           COMERCIAL DE COMBUSTIVEL CACHOEIRINHA LTDA\n",
            "168404           COMERCIAL DE COMBUSTIVEL CACHOEIRINHA LTDA\n",
            "168405                    ABC DISTRIBUICAO DE PETROLEO LTDA\n",
            "168406                    ABC DISTRIBUICAO DE PETROLEO LTDA\n",
            "168407                    ABC DISTRIBUICAO DE PETROLEO LTDA\n",
            "168408                    ABC DISTRIBUICAO DE PETROLEO LTDA\n",
            "Name: Revenda, dtype: object\n"
          ]
        }
      ]
    },
    {
      "cell_type": "code",
      "source": [
        "# Novo dataframe com filtro\n",
        "ca_df = combustiveis_df[['Revenda', 'Municipio', 'Valor de Venda']]\n",
        "\n",
        "display(ca_df.head(10))"
      ],
      "metadata": {
        "colab": {
          "base_uri": "https://localhost:8080/",
          "height": 359
        },
        "id": "pIs-Zqf2Zvie",
        "outputId": "e0d06391-7537-481f-ad1f-96e66b939dbf"
      },
      "execution_count": 23,
      "outputs": [
        {
          "output_type": "display_data",
          "data": {
            "text/plain": [
              "                          Revenda        Municipio  Valor de Venda\n",
              "0            POSTO ARAPIRACA LTDA        ARAPIRACA           6.799\n",
              "1            POSTO ARAPIRACA LTDA        ARAPIRACA           5.299\n",
              "2            POSTO ARAPIRACA LTDA        ARAPIRACA           5.549\n",
              "3            POSTO ARAPIRACA LTDA        ARAPIRACA           6.899\n",
              "4            POSTO ARAPIRACA LTDA        ARAPIRACA           5.649\n",
              "5  AUTO POSTO FREITAS & MAIA LTDA  DELMIRO GOUVEIA           7.198\n",
              "6  AUTO POSTO FREITAS & MAIA LTDA  DELMIRO GOUVEIA           5.982\n",
              "7  AUTO POSTO FREITAS & MAIA LTDA  DELMIRO GOUVEIA           5.974\n",
              "8  AUTO POSTO FREITAS & MAIA LTDA  DELMIRO GOUVEIA           7.208\n",
              "9  AUTO POSTO FREITAS & MAIA LTDA  DELMIRO GOUVEIA           5.983"
            ],
            "text/html": [
              "\n",
              "  <div id=\"df-cf356e91-a60b-4add-926c-3a00f5d5e6d8\">\n",
              "    <div class=\"colab-df-container\">\n",
              "      <div>\n",
              "<style scoped>\n",
              "    .dataframe tbody tr th:only-of-type {\n",
              "        vertical-align: middle;\n",
              "    }\n",
              "\n",
              "    .dataframe tbody tr th {\n",
              "        vertical-align: top;\n",
              "    }\n",
              "\n",
              "    .dataframe thead th {\n",
              "        text-align: right;\n",
              "    }\n",
              "</style>\n",
              "<table border=\"1\" class=\"dataframe\">\n",
              "  <thead>\n",
              "    <tr style=\"text-align: right;\">\n",
              "      <th></th>\n",
              "      <th>Revenda</th>\n",
              "      <th>Municipio</th>\n",
              "      <th>Valor de Venda</th>\n",
              "    </tr>\n",
              "  </thead>\n",
              "  <tbody>\n",
              "    <tr>\n",
              "      <th>0</th>\n",
              "      <td>POSTO ARAPIRACA LTDA</td>\n",
              "      <td>ARAPIRACA</td>\n",
              "      <td>6.799</td>\n",
              "    </tr>\n",
              "    <tr>\n",
              "      <th>1</th>\n",
              "      <td>POSTO ARAPIRACA LTDA</td>\n",
              "      <td>ARAPIRACA</td>\n",
              "      <td>5.299</td>\n",
              "    </tr>\n",
              "    <tr>\n",
              "      <th>2</th>\n",
              "      <td>POSTO ARAPIRACA LTDA</td>\n",
              "      <td>ARAPIRACA</td>\n",
              "      <td>5.549</td>\n",
              "    </tr>\n",
              "    <tr>\n",
              "      <th>3</th>\n",
              "      <td>POSTO ARAPIRACA LTDA</td>\n",
              "      <td>ARAPIRACA</td>\n",
              "      <td>6.899</td>\n",
              "    </tr>\n",
              "    <tr>\n",
              "      <th>4</th>\n",
              "      <td>POSTO ARAPIRACA LTDA</td>\n",
              "      <td>ARAPIRACA</td>\n",
              "      <td>5.649</td>\n",
              "    </tr>\n",
              "    <tr>\n",
              "      <th>5</th>\n",
              "      <td>AUTO POSTO FREITAS &amp; MAIA LTDA</td>\n",
              "      <td>DELMIRO GOUVEIA</td>\n",
              "      <td>7.198</td>\n",
              "    </tr>\n",
              "    <tr>\n",
              "      <th>6</th>\n",
              "      <td>AUTO POSTO FREITAS &amp; MAIA LTDA</td>\n",
              "      <td>DELMIRO GOUVEIA</td>\n",
              "      <td>5.982</td>\n",
              "    </tr>\n",
              "    <tr>\n",
              "      <th>7</th>\n",
              "      <td>AUTO POSTO FREITAS &amp; MAIA LTDA</td>\n",
              "      <td>DELMIRO GOUVEIA</td>\n",
              "      <td>5.974</td>\n",
              "    </tr>\n",
              "    <tr>\n",
              "      <th>8</th>\n",
              "      <td>AUTO POSTO FREITAS &amp; MAIA LTDA</td>\n",
              "      <td>DELMIRO GOUVEIA</td>\n",
              "      <td>7.208</td>\n",
              "    </tr>\n",
              "    <tr>\n",
              "      <th>9</th>\n",
              "      <td>AUTO POSTO FREITAS &amp; MAIA LTDA</td>\n",
              "      <td>DELMIRO GOUVEIA</td>\n",
              "      <td>5.983</td>\n",
              "    </tr>\n",
              "  </tbody>\n",
              "</table>\n",
              "</div>\n",
              "      <button class=\"colab-df-convert\" onclick=\"convertToInteractive('df-cf356e91-a60b-4add-926c-3a00f5d5e6d8')\"\n",
              "              title=\"Convert this dataframe to an interactive table.\"\n",
              "              style=\"display:none;\">\n",
              "        \n",
              "  <svg xmlns=\"http://www.w3.org/2000/svg\" height=\"24px\"viewBox=\"0 0 24 24\"\n",
              "       width=\"24px\">\n",
              "    <path d=\"M0 0h24v24H0V0z\" fill=\"none\"/>\n",
              "    <path d=\"M18.56 5.44l.94 2.06.94-2.06 2.06-.94-2.06-.94-.94-2.06-.94 2.06-2.06.94zm-11 1L8.5 8.5l.94-2.06 2.06-.94-2.06-.94L8.5 2.5l-.94 2.06-2.06.94zm10 10l.94 2.06.94-2.06 2.06-.94-2.06-.94-.94-2.06-.94 2.06-2.06.94z\"/><path d=\"M17.41 7.96l-1.37-1.37c-.4-.4-.92-.59-1.43-.59-.52 0-1.04.2-1.43.59L10.3 9.45l-7.72 7.72c-.78.78-.78 2.05 0 2.83L4 21.41c.39.39.9.59 1.41.59.51 0 1.02-.2 1.41-.59l7.78-7.78 2.81-2.81c.8-.78.8-2.07 0-2.86zM5.41 20L4 18.59l7.72-7.72 1.47 1.35L5.41 20z\"/>\n",
              "  </svg>\n",
              "      </button>\n",
              "      \n",
              "  <style>\n",
              "    .colab-df-container {\n",
              "      display:flex;\n",
              "      flex-wrap:wrap;\n",
              "      gap: 12px;\n",
              "    }\n",
              "\n",
              "    .colab-df-convert {\n",
              "      background-color: #E8F0FE;\n",
              "      border: none;\n",
              "      border-radius: 50%;\n",
              "      cursor: pointer;\n",
              "      display: none;\n",
              "      fill: #1967D2;\n",
              "      height: 32px;\n",
              "      padding: 0 0 0 0;\n",
              "      width: 32px;\n",
              "    }\n",
              "\n",
              "    .colab-df-convert:hover {\n",
              "      background-color: #E2EBFA;\n",
              "      box-shadow: 0px 1px 2px rgba(60, 64, 67, 0.3), 0px 1px 3px 1px rgba(60, 64, 67, 0.15);\n",
              "      fill: #174EA6;\n",
              "    }\n",
              "\n",
              "    [theme=dark] .colab-df-convert {\n",
              "      background-color: #3B4455;\n",
              "      fill: #D2E3FC;\n",
              "    }\n",
              "\n",
              "    [theme=dark] .colab-df-convert:hover {\n",
              "      background-color: #434B5C;\n",
              "      box-shadow: 0px 1px 3px 1px rgba(0, 0, 0, 0.15);\n",
              "      filter: drop-shadow(0px 1px 2px rgba(0, 0, 0, 0.3));\n",
              "      fill: #FFFFFF;\n",
              "    }\n",
              "  </style>\n",
              "\n",
              "      <script>\n",
              "        const buttonEl =\n",
              "          document.querySelector('#df-cf356e91-a60b-4add-926c-3a00f5d5e6d8 button.colab-df-convert');\n",
              "        buttonEl.style.display =\n",
              "          google.colab.kernel.accessAllowed ? 'block' : 'none';\n",
              "\n",
              "        async function convertToInteractive(key) {\n",
              "          const element = document.querySelector('#df-cf356e91-a60b-4add-926c-3a00f5d5e6d8');\n",
              "          const dataTable =\n",
              "            await google.colab.kernel.invokeFunction('convertToInteractive',\n",
              "                                                     [key], {});\n",
              "          if (!dataTable) return;\n",
              "\n",
              "          const docLinkHtml = 'Like what you see? Visit the ' +\n",
              "            '<a target=\"_blank\" href=https://colab.research.google.com/notebooks/data_table.ipynb>data table notebook</a>'\n",
              "            + ' to learn more about interactive tables.';\n",
              "          element.innerHTML = '';\n",
              "          dataTable['output_type'] = 'display_data';\n",
              "          await google.colab.output.renderOutput(dataTable, element);\n",
              "          const docLink = document.createElement('div');\n",
              "          docLink.innerHTML = docLinkHtml;\n",
              "          element.appendChild(docLink);\n",
              "        }\n",
              "      </script>\n",
              "    </div>\n",
              "  </div>\n",
              "  "
            ]
          },
          "metadata": {}
        }
      ]
    }
  ]
}